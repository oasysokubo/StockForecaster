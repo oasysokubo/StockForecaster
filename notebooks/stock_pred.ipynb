{
 "cells": [
  {
   "cell_type": "code",
   "execution_count": 2,
   "metadata": {},
   "outputs": [],
   "source": [
    "import numpy as np\n",
    "import pandas as pd\n",
    "import talib\n",
    "import matplotlib.pyplot as plt"
   ]
  },
  {
   "cell_type": "code",
   "execution_count": 3,
   "metadata": {},
   "outputs": [
    {
     "name": "stderr",
     "output_type": "stream",
     "text": [
      "Using TensorFlow backend.\n"
     ]
    }
   ],
   "source": [
    "from keras.models import Sequential\n",
    "from keras.layers import Dense\n",
    "from keras.layers import Dropout"
   ]
  },
  {
   "cell_type": "code",
   "execution_count": 4,
   "metadata": {},
   "outputs": [],
   "source": [
    "import random\n",
    "random.seed(42)"
   ]
  },
  {
   "cell_type": "code",
   "execution_count": 5,
   "metadata": {},
   "outputs": [],
   "source": [
    "dataset = pd.read_csv('../data/NSE.csv')\n",
    "dataset = dataset.dropna()\n",
    "dataset = dataset[['Open', 'High', 'Low', 'Close']]"
   ]
  },
  {
   "cell_type": "code",
   "execution_count": 6,
   "metadata": {},
   "outputs": [],
   "source": [
    "dataset['H-L'] = dataset['High'] - dataset['Low']\n",
    "dataset['O-C'] = dataset['Close'] - dataset['Open']\n",
    "dataset['3day MA'] = dataset['Close'].shift(1).rolling(window=3).mean()\n",
    "dataset['10day MA'] = dataset['Close'].shift(1).rolling(window=10).mean()\n",
    "dataset['30day MA'] = dataset['Close'].shift(1).rolling(window=30).mean()\n",
    "dataset['Std_dev'] = dataset['Close'].rolling(5).std()\n",
    "dataset['RSI'] = talib.RSI(dataset['Close'].values, timeperiod = 9)\n",
    "dataset['Williams %R'] = talib.WILLR(dataset['High'].values, dataset['Low'].values, dataset['Close'].values, 7)"
   ]
  },
  {
   "cell_type": "code",
   "execution_count": 7,
   "metadata": {},
   "outputs": [],
   "source": [
    "# Binary var storing 1 when the closing price of tomorrow is greater than todays\n",
    "dataset['Price_Rise'] = np.where(dataset['Close'].shift(-1) > dataset['Close'], 1, 0)"
   ]
  },
  {
   "cell_type": "code",
   "execution_count": 8,
   "metadata": {},
   "outputs": [],
   "source": [
    "dataset = dataset.dropna() #drop all the rows storing NaN"
   ]
  },
  {
   "cell_type": "code",
   "execution_count": 9,
   "metadata": {},
   "outputs": [],
   "source": [
    "X = dataset.iloc[:, 4:-1] \n",
    "y = dataset.iloc[:, -1]"
   ]
  },
  {
   "cell_type": "code",
   "execution_count": 10,
   "metadata": {},
   "outputs": [],
   "source": [
    "# Split our input and output to create the test and train datasets\n",
    "split = int(len(dataset)*0.8)\n",
    "X_train, X_test, y_train, y_test = X[:split], X[split:], y[:split], y[split:]"
   ]
  },
  {
   "cell_type": "code",
   "execution_count": 11,
   "metadata": {},
   "outputs": [],
   "source": [
    "# Feature Scaling\n",
    "# make the mean of all the input features equla to zero and convert their variance\n",
    "from sklearn.preprocessing import StandardScaler\n",
    "sc = StandardScaler()\n",
    "X_train = sc.fit_transform(X_train)\n",
    "X_test = sc.transform(X_test)"
   ]
  },
  {
   "cell_type": "code",
   "execution_count": 12,
   "metadata": {},
   "outputs": [],
   "source": [
    "classifier = Sequential()"
   ]
  },
  {
   "cell_type": "code",
   "execution_count": 20,
   "metadata": {},
   "outputs": [],
   "source": [
    "classifier.add(Dense(units = 128, kernel_initializer = 'uniform', activation = 'relu', input_dim = X.shape[1]))\n",
    "classifier.add(Dense(units = 128, kernel_initializer = 'uniform', activation = 'relu'))\n",
    "classifier.add(Dense(units = 128, kernel_initializer = 'uniform', activation = 'relu'))\n",
    "classifier.add(Dense(units = 1, kernel_initializer = 'uniform', activation = 'sigmoid'))\n",
    "classifier.compile(optimizer = 'adam', loss = 'mean_squared_error', metrics = ['accuracy'])"
   ]
  },
  {
   "cell_type": "code",
   "execution_count": 21,
   "metadata": {},
   "outputs": [
    {
     "name": "stdout",
     "output_type": "stream",
     "text": [
      "Epoch 1/100\n",
      "952/952 [==============================] - 0s 284us/step - loss: 0.2307 - acc: 0.5924\n",
      "Epoch 2/100\n",
      "952/952 [==============================] - 0s 189us/step - loss: 0.1894 - acc: 0.7479\n",
      "Epoch 3/100\n",
      "952/952 [==============================] - 0s 255us/step - loss: 0.1685 - acc: 0.7752\n",
      "Epoch 4/100\n",
      "952/952 [==============================] - 0s 143us/step - loss: 0.1577 - acc: 0.7941\n",
      "Epoch 5/100\n",
      "952/952 [==============================] - 0s 144us/step - loss: 0.1572 - acc: 0.7836\n",
      "Epoch 6/100\n",
      "952/952 [==============================] - 0s 142us/step - loss: 0.1556 - acc: 0.7910\n",
      "Epoch 7/100\n",
      "952/952 [==============================] - 0s 155us/step - loss: 0.1426 - acc: 0.8120\n",
      "Epoch 8/100\n",
      "952/952 [==============================] - 0s 160us/step - loss: 0.1452 - acc: 0.8088\n",
      "Epoch 9/100\n",
      "952/952 [==============================] - 0s 144us/step - loss: 0.1407 - acc: 0.8067\n",
      "Epoch 10/100\n",
      "952/952 [==============================] - 0s 144us/step - loss: 0.1404 - acc: 0.8225\n",
      "Epoch 11/100\n",
      "952/952 [==============================] - 0s 145us/step - loss: 0.1452 - acc: 0.8067\n",
      "Epoch 12/100\n",
      "952/952 [==============================] - 0s 145us/step - loss: 0.1385 - acc: 0.8256\n",
      "Epoch 13/100\n",
      "952/952 [==============================] - 0s 145us/step - loss: 0.1401 - acc: 0.8088\n",
      "Epoch 14/100\n",
      "952/952 [==============================] - 0s 150us/step - loss: 0.1427 - acc: 0.8214\n",
      "Epoch 15/100\n",
      "952/952 [==============================] - 0s 230us/step - loss: 0.1374 - acc: 0.8246\n",
      "Epoch 16/100\n",
      "952/952 [==============================] - 0s 199us/step - loss: 0.1304 - acc: 0.8393\n",
      "Epoch 17/100\n",
      "952/952 [==============================] - 0s 186us/step - loss: 0.1394 - acc: 0.8246\n",
      "Epoch 18/100\n",
      "952/952 [==============================] - 0s 178us/step - loss: 0.1411 - acc: 0.8151\n",
      "Epoch 19/100\n",
      "952/952 [==============================] - 0s 145us/step - loss: 0.1266 - acc: 0.8424\n",
      "Epoch 20/100\n",
      "952/952 [==============================] - 0s 181us/step - loss: 0.1233 - acc: 0.8435\n",
      "Epoch 21/100\n",
      "952/952 [==============================] - 0s 205us/step - loss: 0.1237 - acc: 0.8445\n",
      "Epoch 22/100\n",
      "952/952 [==============================] - 0s 229us/step - loss: 0.1306 - acc: 0.8361\n",
      "Epoch 23/100\n",
      "952/952 [==============================] - 0s 232us/step - loss: 0.1217 - acc: 0.8540\n",
      "Epoch 24/100\n",
      "952/952 [==============================] - 0s 181us/step - loss: 0.1278 - acc: 0.8424\n",
      "Epoch 25/100\n",
      "952/952 [==============================] - 0s 146us/step - loss: 0.1398 - acc: 0.8162\n",
      "Epoch 26/100\n",
      "952/952 [==============================] - 0s 145us/step - loss: 0.1286 - acc: 0.8340\n",
      "Epoch 27/100\n",
      "952/952 [==============================] - 0s 147us/step - loss: 0.1227 - acc: 0.8445\n",
      "Epoch 28/100\n",
      "952/952 [==============================] - 0s 147us/step - loss: 0.1193 - acc: 0.8529\n",
      "Epoch 29/100\n",
      "952/952 [==============================] - 0s 148us/step - loss: 0.1228 - acc: 0.8361\n",
      "Epoch 30/100\n",
      "952/952 [==============================] - 0s 150us/step - loss: 0.1167 - acc: 0.8529\n",
      "Epoch 31/100\n",
      "952/952 [==============================] - 0s 152us/step - loss: 0.1164 - acc: 0.8508\n",
      "Epoch 32/100\n",
      "952/952 [==============================] - 0s 151us/step - loss: 0.1200 - acc: 0.8550\n",
      "Epoch 33/100\n",
      "952/952 [==============================] - 0s 203us/step - loss: 0.1153 - acc: 0.8603\n",
      "Epoch 34/100\n",
      "952/952 [==============================] - 0s 210us/step - loss: 0.1142 - acc: 0.8624\n",
      "Epoch 35/100\n",
      "952/952 [==============================] - 0s 200us/step - loss: 0.1143 - acc: 0.8624\n",
      "Epoch 36/100\n",
      "952/952 [==============================] - 0s 200us/step - loss: 0.1343 - acc: 0.8309\n",
      "Epoch 37/100\n",
      "952/952 [==============================] - 0s 150us/step - loss: 0.1112 - acc: 0.8603\n",
      "Epoch 38/100\n",
      "952/952 [==============================] - 0s 150us/step - loss: 0.1125 - acc: 0.8645\n",
      "Epoch 39/100\n",
      "952/952 [==============================] - 0s 147us/step - loss: 0.0998 - acc: 0.8887\n",
      "Epoch 40/100\n",
      "952/952 [==============================] - 0s 157us/step - loss: 0.1178 - acc: 0.8519\n",
      "Epoch 41/100\n",
      "952/952 [==============================] - 0s 171us/step - loss: 0.1173 - acc: 0.8519\n",
      "Epoch 42/100\n",
      "952/952 [==============================] - 0s 151us/step - loss: 0.1155 - acc: 0.8582\n",
      "Epoch 43/100\n",
      "952/952 [==============================] - 0s 148us/step - loss: 0.1097 - acc: 0.8750\n",
      "Epoch 44/100\n",
      "952/952 [==============================] - 0s 150us/step - loss: 0.1065 - acc: 0.8761\n",
      "Epoch 45/100\n",
      "952/952 [==============================] - 0s 150us/step - loss: 0.1019 - acc: 0.8824\n",
      "Epoch 46/100\n",
      "952/952 [==============================] - 0s 151us/step - loss: 0.1121 - acc: 0.8613\n",
      "Epoch 47/100\n",
      "952/952 [==============================] - 0s 152us/step - loss: 0.1044 - acc: 0.8813\n",
      "Epoch 48/100\n",
      "952/952 [==============================] - 0s 153us/step - loss: 0.1224 - acc: 0.8382\n",
      "Epoch 49/100\n",
      "952/952 [==============================] - 0s 157us/step - loss: 0.1166 - acc: 0.8529\n",
      "Epoch 50/100\n",
      "952/952 [==============================] - 0s 153us/step - loss: 0.1090 - acc: 0.8761\n",
      "Epoch 51/100\n",
      "952/952 [==============================] - 0s 162us/step - loss: 0.1220 - acc: 0.8414\n",
      "Epoch 52/100\n",
      "952/952 [==============================] - 0s 205us/step - loss: 0.1127 - acc: 0.8645\n",
      "Epoch 53/100\n",
      "952/952 [==============================] - 0s 229us/step - loss: 0.1028 - acc: 0.8834\n",
      "Epoch 54/100\n",
      "952/952 [==============================] - 0s 157us/step - loss: 0.1051 - acc: 0.8708\n",
      "Epoch 55/100\n",
      "952/952 [==============================] - 0s 151us/step - loss: 0.0942 - acc: 0.8939\n",
      "Epoch 56/100\n",
      "952/952 [==============================] - 0s 154us/step - loss: 0.0967 - acc: 0.8855\n",
      "Epoch 57/100\n",
      "952/952 [==============================] - 0s 164us/step - loss: 0.0989 - acc: 0.8855\n",
      "Epoch 58/100\n",
      "952/952 [==============================] - 0s 164us/step - loss: 0.1034 - acc: 0.8761\n",
      "Epoch 59/100\n",
      "952/952 [==============================] - 0s 148us/step - loss: 0.0989 - acc: 0.8803\n",
      "Epoch 60/100\n",
      "952/952 [==============================] - 0s 151us/step - loss: 0.0951 - acc: 0.8939\n",
      "Epoch 61/100\n",
      "952/952 [==============================] - 0s 151us/step - loss: 0.1097 - acc: 0.8729\n",
      "Epoch 62/100\n",
      "952/952 [==============================] - 0s 157us/step - loss: 0.1012 - acc: 0.8792\n",
      "Epoch 63/100\n",
      "952/952 [==============================] - 0s 155us/step - loss: 0.1001 - acc: 0.8824\n",
      "Epoch 64/100\n",
      "952/952 [==============================] - 0s 155us/step - loss: 0.0902 - acc: 0.8939\n",
      "Epoch 65/100\n",
      "952/952 [==============================] - 0s 155us/step - loss: 0.0903 - acc: 0.8960\n",
      "Epoch 66/100\n",
      "952/952 [==============================] - 0s 157us/step - loss: 0.0912 - acc: 0.8981\n",
      "Epoch 67/100\n",
      "952/952 [==============================] - 0s 158us/step - loss: 0.1000 - acc: 0.8771\n",
      "Epoch 68/100\n",
      "952/952 [==============================] - 0s 157us/step - loss: 0.0976 - acc: 0.8866\n",
      "Epoch 69/100\n",
      "952/952 [==============================] - 0s 160us/step - loss: 0.1441 - acc: 0.8151\n",
      "Epoch 70/100\n",
      "952/952 [==============================] - 0s 226us/step - loss: 0.1077 - acc: 0.8687\n",
      "Epoch 71/100\n",
      "952/952 [==============================] - 0s 212us/step - loss: 0.1037 - acc: 0.8813\n",
      "Epoch 72/100\n",
      "952/952 [==============================] - 0s 191us/step - loss: 0.0885 - acc: 0.9013\n",
      "Epoch 73/100\n",
      "952/952 [==============================] - 0s 199us/step - loss: 0.1106 - acc: 0.8634\n",
      "Epoch 74/100\n",
      "952/952 [==============================] - 0s 156us/step - loss: 0.0977 - acc: 0.8845\n",
      "Epoch 75/100\n",
      "952/952 [==============================] - 0s 163us/step - loss: 0.1071 - acc: 0.8718\n",
      "Epoch 76/100\n",
      "952/952 [==============================] - 0s 158us/step - loss: 0.0983 - acc: 0.8813\n",
      "Epoch 77/100\n",
      "952/952 [==============================] - 0s 175us/step - loss: 0.0899 - acc: 0.8971\n",
      "Epoch 78/100\n",
      "952/952 [==============================] - 0s 187us/step - loss: 0.0900 - acc: 0.9013\n",
      "Epoch 79/100\n",
      "952/952 [==============================] - 0s 157us/step - loss: 0.0962 - acc: 0.8918\n",
      "Epoch 80/100\n",
      "952/952 [==============================] - 0s 157us/step - loss: 0.1078 - acc: 0.8645\n",
      "Epoch 81/100\n",
      "952/952 [==============================] - 0s 168us/step - loss: 0.0998 - acc: 0.8866\n",
      "Epoch 82/100\n",
      "952/952 [==============================] - 0s 155us/step - loss: 0.0968 - acc: 0.8855\n",
      "Epoch 83/100\n",
      "952/952 [==============================] - 0s 158us/step - loss: 0.0915 - acc: 0.8918\n",
      "Epoch 84/100\n",
      "952/952 [==============================] - 0s 158us/step - loss: 0.1126 - acc: 0.8687\n",
      "Epoch 85/100\n",
      "952/952 [==============================] - 0s 178us/step - loss: 0.1019 - acc: 0.8792\n",
      "Epoch 86/100\n",
      "952/952 [==============================] - 0s 190us/step - loss: 0.0934 - acc: 0.8897\n",
      "Epoch 87/100\n",
      "952/952 [==============================] - 0s 205us/step - loss: 0.0956 - acc: 0.8897\n",
      "Epoch 88/100\n",
      "952/952 [==============================] - 0s 170us/step - loss: 0.0830 - acc: 0.9086\n",
      "Epoch 89/100\n",
      "952/952 [==============================] - 0s 157us/step - loss: 0.0868 - acc: 0.9034\n",
      "Epoch 90/100\n",
      "952/952 [==============================] - 0s 158us/step - loss: 0.0971 - acc: 0.8845\n",
      "Epoch 91/100\n",
      "952/952 [==============================] - 0s 159us/step - loss: 0.0984 - acc: 0.8813\n",
      "Epoch 92/100\n",
      "952/952 [==============================] - 0s 161us/step - loss: 0.1015 - acc: 0.8761\n",
      "Epoch 93/100\n",
      "952/952 [==============================] - 0s 164us/step - loss: 0.0911 - acc: 0.8908\n",
      "Epoch 94/100\n",
      "952/952 [==============================] - 0s 159us/step - loss: 0.1069 - acc: 0.8687\n",
      "Epoch 95/100\n",
      "952/952 [==============================] - 0s 194us/step - loss: 0.0921 - acc: 0.8918\n",
      "Epoch 96/100\n",
      "952/952 [==============================] - 0s 239us/step - loss: 0.0879 - acc: 0.8971\n",
      "Epoch 97/100\n",
      "952/952 [==============================] - 0s 163us/step - loss: 0.0940 - acc: 0.8887\n",
      "Epoch 98/100\n",
      "952/952 [==============================] - 0s 160us/step - loss: 0.0953 - acc: 0.8918\n",
      "Epoch 99/100\n",
      "952/952 [==============================] - 0s 160us/step - loss: 0.0949 - acc: 0.8887\n",
      "Epoch 100/100\n",
      "952/952 [==============================] - 0s 177us/step - loss: 0.0844 - acc: 0.9044\n"
     ]
    }
   ],
   "source": [
    "h = classifier.fit(X_train, y_train, batch_size = 10, epochs = 100)"
   ]
  },
  {
   "cell_type": "code",
   "execution_count": 35,
   "metadata": {},
   "outputs": [
    {
     "data": {
      "image/png": "[encoded data removed]",
      "text/plain": [
       "<Figure size 432x288 with 1 Axes>"
      ]
     },
     "metadata": {
      "needs_background": "light"
     },
     "output_type": "display_data"
    }
   ],
   "source": [
    "plt.plot(h.history['acc'])\n",
    "plt.xlabel('epoch')\n",
    "plt.legend(['accuracy'])\n",
    "plt.title('Accuracy')\n",
    "plt.show()"
   ]
  },
  {
   "cell_type": "code",
   "execution_count": 27,
   "metadata": {},
   "outputs": [],
   "source": [
    "y_pred = classifier.predict(X_test)\n",
    "y_pred = (y_pred > 0.5)"
   ]
  },
  {
   "cell_type": "code",
   "execution_count": 28,
   "metadata": {},
   "outputs": [],
   "source": [
    "dataset['y_pred'] = np.NaN\n",
    "dataset.iloc[(len(dataset) - len(y_pred)):,-1:] = y_pred\n",
    "trade_dataset = dataset.dropna()"
   ]
  },
  {
   "cell_type": "code",
   "execution_count": 31,
   "metadata": {},
   "outputs": [
    {
     "name": "stderr",
     "output_type": "stream",
     "text": [
      "/Users/oasysokubo/anaconda3/lib/python2.7/site-packages/ipykernel_launcher.py:1: SettingWithCopyWarning: \n",
      "A value is trying to be set on a copy of a slice from a DataFrame.\n",
      "Try using .loc[row_indexer,col_indexer] = value instead\n",
      "\n",
      "See the caveats in the documentation: http://pandas.pydata.org/pandas-docs/stable/indexing.html#indexing-view-versus-copy\n",
      "  \"\"\"Entry point for launching an IPython kernel.\n",
      "/Users/oasysokubo/anaconda3/lib/python2.7/site-packages/ipykernel_launcher.py:2: SettingWithCopyWarning: \n",
      "A value is trying to be set on a copy of a slice from a DataFrame.\n",
      "Try using .loc[row_indexer,col_indexer] = value instead\n",
      "\n",
      "See the caveats in the documentation: http://pandas.pydata.org/pandas-docs/stable/indexing.html#indexing-view-versus-copy\n",
      "  \n",
      "/Users/oasysokubo/anaconda3/lib/python2.7/site-packages/ipykernel_launcher.py:3: SettingWithCopyWarning: \n",
      "A value is trying to be set on a copy of a slice from a DataFrame.\n",
      "Try using .loc[row_indexer,col_indexer] = value instead\n",
      "\n",
      "See the caveats in the documentation: http://pandas.pydata.org/pandas-docs/stable/indexing.html#indexing-view-versus-copy\n",
      "  This is separate from the ipykernel package so we can avoid doing imports until\n"
     ]
    }
   ],
   "source": [
    "trade_dataset['Tomorrows Returns'] = 0.\n",
    "trade_dataset['Tomorrows Returns'] = np.log(trade_dataset['Close']/trade_dataset['Close'].shift(1))\n",
    "trade_dataset['Tomorrows Returns'] = trade_dataset['Tomorrows Returns'].shift(-1)"
   ]
  },
  {
   "cell_type": "code",
   "execution_count": 32,
   "metadata": {},
   "outputs": [
    {
     "name": "stderr",
     "output_type": "stream",
     "text": [
      "/Users/oasysokubo/anaconda3/lib/python2.7/site-packages/ipykernel_launcher.py:1: SettingWithCopyWarning: \n",
      "A value is trying to be set on a copy of a slice from a DataFrame.\n",
      "Try using .loc[row_indexer,col_indexer] = value instead\n",
      "\n",
      "See the caveats in the documentation: http://pandas.pydata.org/pandas-docs/stable/indexing.html#indexing-view-versus-copy\n",
      "  \"\"\"Entry point for launching an IPython kernel.\n",
      "/Users/oasysokubo/anaconda3/lib/python2.7/site-packages/ipykernel_launcher.py:2: SettingWithCopyWarning: \n",
      "A value is trying to be set on a copy of a slice from a DataFrame.\n",
      "Try using .loc[row_indexer,col_indexer] = value instead\n",
      "\n",
      "See the caveats in the documentation: http://pandas.pydata.org/pandas-docs/stable/indexing.html#indexing-view-versus-copy\n",
      "  \n"
     ]
    }
   ],
   "source": [
    "trade_dataset['Strategy Returns'] = 0.\n",
    "trade_dataset['Strategy Returns'] = np.where(trade_dataset['y_pred'] == True, trade_dataset['Tomorrows Returns'], - trade_dataset['Tomorrows Returns'])"
   ]
  },
  {
   "cell_type": "code",
   "execution_count": 33,
   "metadata": {},
   "outputs": [
    {
     "name": "stderr",
     "output_type": "stream",
     "text": [
      "/Users/oasysokubo/anaconda3/lib/python2.7/site-packages/ipykernel_launcher.py:1: SettingWithCopyWarning: \n",
      "A value is trying to be set on a copy of a slice from a DataFrame.\n",
      "Try using .loc[row_indexer,col_indexer] = value instead\n",
      "\n",
      "See the caveats in the documentation: http://pandas.pydata.org/pandas-docs/stable/indexing.html#indexing-view-versus-copy\n",
      "  \"\"\"Entry point for launching an IPython kernel.\n",
      "/Users/oasysokubo/anaconda3/lib/python2.7/site-packages/ipykernel_launcher.py:2: SettingWithCopyWarning: \n",
      "A value is trying to be set on a copy of a slice from a DataFrame.\n",
      "Try using .loc[row_indexer,col_indexer] = value instead\n",
      "\n",
      "See the caveats in the documentation: http://pandas.pydata.org/pandas-docs/stable/indexing.html#indexing-view-versus-copy\n",
      "  \n"
     ]
    }
   ],
   "source": [
    "trade_dataset['Cumulative Market Returns'] = np.cumsum(trade_dataset['Tomorrows Returns'])\n",
    "trade_dataset['Cumulative Strategy Returns'] = np.cumsum(trade_dataset['Strategy Returns'])"
   ]
  },
  {
   "cell_type": "code",
   "execution_count": 34,
   "metadata": {},
   "outputs": [
    {
     "data": {
      "image/png": "[encoded data removed]",
      "text/plain": [
       "<Figure size 720x360 with 1 Axes>"
      ]
     },
     "metadata": {
      "needs_background": "light"
     },
     "output_type": "display_data"
    }
   ],
   "source": [
    "plt.figure(figsize=(10,5))\n",
    "plt.plot(trade_dataset['Cumulative Market Returns'], color='r', label='Market Returns')\n",
    "plt.plot(trade_dataset['Cumulative Strategy Returns'], color='g', label='Strategy Returns')\n",
    "plt.legend()\n",
    "plt.show()"
   ]
  },
  {
   "cell_type": "code",
   "execution_count": null,
   "metadata": {},
   "outputs": [],
   "source": []
  }
 ],
 "metadata": {
  "kernelspec": {
   "display_name": "Python 2",
   "language": "python",
   "name": "python2"
  },
  "language_info": {
   "codemirror_mode": {
    "name": "ipython",
    "version": 2
   },
   "file_extension": ".py",
   "mimetype": "text/x-python",
   "name": "python",
   "nbconvert_exporter": "python",
   "pygments_lexer": "ipython2",
   "version": "2.7.15"
  }
 },
 "nbformat": 4,
 "nbformat_minor": 2
}
